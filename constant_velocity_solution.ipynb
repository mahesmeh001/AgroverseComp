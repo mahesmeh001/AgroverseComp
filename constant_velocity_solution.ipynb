{
 "cells": [
  {
   "cell_type": "markdown",
   "source": [
    "Constant Velocity: Compute the mean velocity (vxi, vyi) from t = {1, ..., Tobs} and then forecast (xt_i, yt_i) for t = {Tobs+1, ..., Tpred} using (vxi, vyi) as the constant velocity."
   ],
   "metadata": {
    "collapsed": false
   },
   "id": "528343c0ba83503e"
  },
  {
   "cell_type": "markdown",
   "source": [
    "first, load in data"
   ],
   "metadata": {
    "collapsed": false
   },
   "id": "101608d0a68aa21"
  },
  {
   "cell_type": "code",
   "outputs": [
    {
     "name": "stdout",
     "output_type": "stream",
     "text": [
      "train_data's shape (10000, 50, 110, 6)\n",
      "test_data's shape (2100, 50, 50, 6)\n"
     ]
    }
   ],
   "source": [
    "import numpy as np\n",
    "train_file = np.load('data/train.npz')\n",
    "train_data = train_file['data']\n",
    "print(\"train_data's shape\", train_data.shape)\n",
    "test_file = np.load('data/test_input.npz')\n",
    "test_data = test_file['data']\n",
    "print(\"test_data's shape\", test_data.shape)\n"
   ],
   "metadata": {
    "collapsed": false,
    "ExecuteTime": {
     "end_time": "2025-04-20T23:52:39.160849Z",
     "start_time": "2025-04-20T23:52:37.562514Z"
    }
   },
   "id": "c0a65bf41b971c32",
   "execution_count": 1
  },
  {
   "cell_type": "markdown",
   "source": [
    "visualization code"
   ],
   "metadata": {
    "collapsed": false
   },
   "id": "4b4c3f86f4f48b7a"
  },
  {
   "cell_type": "code",
   "outputs": [
    {
     "name": "stderr",
     "output_type": "stream",
     "text": [
      "/var/folders/wv/j6ybhf8906j4bmnp171wtn680000gn/T/ipykernel_96938/2021253749.py:6: MatplotlibDeprecationWarning: The get_cmap function was deprecated in Matplotlib 3.7 and will be removed in 3.11. Use ``matplotlib.colormaps[name]`` or ``matplotlib.colormaps.get_cmap()`` or ``pyplot.get_cmap()`` instead.\n",
      "  cmap = plt.cm.get_cmap('viridis', 50)\n"
     ]
    }
   ],
   "source": [
    "import matplotlib.pyplot as plt\n",
    "import matplotlib.animation as animation\n",
    "\n",
    "# make gif out of a scene.\n",
    "def make_gif(data_matrix, name='example'):\n",
    "   cmap = plt.cm.get_cmap('viridis', 50)\n",
    "   fig, ax = plt.subplots(figsize=(10, 10))\n",
    "   # Function to update plot for each frame\n",
    "   def update(frame):\n",
    "       ax.clear()\n",
    "\n",
    "       # Get data for current timestep\n",
    "       for i in range(1, data_matrix.shape[0]):\n",
    "           x = data_matrix[i, frame, 0]\n",
    "           y = data_matrix[i, frame, 1]\n",
    "           if x != 0 and y != 0:\n",
    "               xs = data_matrix[i, :frame+1, 0]  # Include current frame\n",
    "               ys = data_matrix[i, :frame+1, 1]  # Include current frame\n",
    "               # trim all zeros\n",
    "               mask = (xs != 0) & (ys != 0)  # Only keep points where both x and y are non-zero\n",
    "               xs = xs[mask]\n",
    "               ys = ys[mask]\n",
    "\n",
    "               # Only plot if we have points to plot\n",
    "               if len(xs) > 0 and len(ys) > 0:\n",
    "                   color = cmap(i)\n",
    "                   ax.plot(xs, ys, alpha=0.9, color=color)\n",
    "                   ax.scatter(x, y, s=80, color=color)\n",
    "\n",
    "       ax.plot(data_matrix[0, :frame, 0], data_matrix[0, :frame, 1], color='tab:orange', label='Ego Vehicle')\n",
    "       ax.scatter(data_matrix[0, frame, 0], data_matrix[0, frame, 1], s=80, color='tab:orange')\n",
    "       # Set title with timestep\n",
    "       ax.set_title(f'Timestep {frame}')\n",
    "       # Set consistent axis limits\n",
    "       ax.set_xlim(data_matrix[:,:,0][data_matrix[:,:,0] != 0].min() - 10, data_matrix[:,:,0][data_matrix[:,:,0] != 0].max() + 10)\n",
    "       ax.set_ylim(data_matrix[:,:,1][data_matrix[:,:,1] != 0].min() - 10, data_matrix[:,:,1][data_matrix[:,:,1] != 0].max() + 10)\n",
    "       ax.legend()\n",
    "\n",
    "       return ax.collections + ax.lines\n",
    "\n",
    "   # Create animation\n",
    "   anim = animation.FuncAnimation(fig, update, frames=list(range(0, data_matrix.shape[1], 3)),\n",
    "                               interval=100, blit=True)\n",
    "   # Save as GIF\n",
    "   anim.save(f'trajectory_visualization_{name}.gif', writer='pillow')\n",
    "   plt.close()\n",
    "data_matrix = train_data[0]        \n",
    "make_gif(data_matrix, 'index0')"
   ],
   "metadata": {
    "collapsed": false,
    "ExecuteTime": {
     "end_time": "2025-04-20T23:52:43.631485Z",
     "start_time": "2025-04-20T23:52:39.088131Z"
    }
   },
   "id": "d6832e074862252a",
   "execution_count": 2
  },
  {
   "cell_type": "markdown",
   "source": [
    "Preprocess data\n",
    "\n",
    "handle this: Many trajectories are not complete, and have been padded with 0s. this can also happen when there are less than 50 actors"
   ],
   "metadata": {
    "collapsed": false
   },
   "id": "3f9b0933dd0e7462"
  },
  {
   "cell_type": "code",
   "outputs": [
    {
     "name": "stdout",
     "output_type": "stream",
     "text": [
      "Original Train Data Shape: (10000, 50, 110, 6)\n",
      "Processed Train Data Length: 10000 (variable agents per scenario)\n",
      "Original Test Data Shape: (2100, 50, 50, 6)\n",
      "Processed Test Data Length: 2100 (variable agents per scenario)\n"
     ]
    }
   ],
   "source": [
    "def preprocess_data(data):\n",
    "    \"\"\"\n",
    "    Removes padded agents (agents with all zero values across time steps).\n",
    "    \n",
    "    Args:\n",
    "        data (numpy.ndarray): Shape (scenarios, agents, time_steps, dimensions)\n",
    "    \n",
    "    Returns:\n",
    "        numpy.ndarray: Filtered dataset without padded agents.\n",
    "    \"\"\"\n",
    "    scenarios, agents, time_steps, dimensions = data.shape\n",
    "    processed_data = []\n",
    "\n",
    "    for i in range(scenarios):\n",
    "        scenario_data = data[i]  # Shape (agents, time_steps, dimensions)\n",
    "        \n",
    "        # Identify non-padded agents (at least one nonzero value across all time steps)\n",
    "        valid_agents = np.any(scenario_data != 0, axis=(1, 2))  # Shape (agents,)\n",
    "        \n",
    "        # Filter out only the valid agents\n",
    "        filtered_agents = scenario_data[valid_agents]  # Shape (valid_agents, time_steps, dimensions)\n",
    "        \n",
    "        processed_data.append(filtered_agents)\n",
    "\n",
    "    return processed_data  # List of variable-length arrays per scenario\n",
    "\n",
    "train_data_processed = preprocess_data(train_data)\n",
    "test_data_processed = preprocess_data(test_data)\n",
    "\n",
    "# Print results\n",
    "print(f\"Original Train Data Shape: {train_data.shape}\")\n",
    "print(f\"Processed Train Data Length: {len(train_data_processed)} (variable agents per scenario)\")\n",
    "\n",
    "print(f\"Original Test Data Shape: {test_data.shape}\")\n",
    "print(f\"Processed Test Data Length: {len(test_data_processed)} (variable agents per scenario)\")\n"
   ],
   "metadata": {
    "collapsed": false,
    "ExecuteTime": {
     "end_time": "2025-04-03T00:15:29.510892Z",
     "start_time": "2025-04-03T00:15:23.103620Z"
    }
   },
   "id": "166f9279b99d645b",
   "execution_count": 6
  },
  {
   "cell_type": "markdown",
   "source": [
    "may want to add handling incomplete trajectories (some kind of interpolation to fill in missing values)"
   ],
   "metadata": {
    "collapsed": false
   },
   "id": "4eb91e971ebfcbf4"
  },
  {
   "cell_type": "code",
   "outputs": [],
   "source": [
    "#todo: handle missing trajectories"
   ],
   "metadata": {
    "collapsed": false
   },
   "id": "42d799727b229773"
  },
  {
   "cell_type": "markdown",
   "source": [
    "Compute mean velocity for each agent. use this to forecase the position"
   ],
   "metadata": {
    "collapsed": false
   },
   "id": "68c33e41d7b108df"
  },
  {
   "cell_type": "code",
   "outputs": [],
   "source": [
    "import numpy as np\n",
    "\n",
    "def forecast_positions(scenario_data, Tobs, Tpred):\n",
    "    \"\"\"\n",
    "    Computes mean velocity for each agent and forecasts future positions.\n",
    "    \n",
    "    Args:\n",
    "        scenario_data (numpy.ndarray): Shape (agents, time_steps, dimensions)\n",
    "        Tobs (int): Number of observed time steps\n",
    "        Tpred (int): Number of future time steps to predict\n",
    "    \n",
    "    Returns:\n",
    "        numpy.ndarray: Predicted positions of shape (agents, Tpred, 2) -> (x, y)\n",
    "    \"\"\"\n",
    "    agents, time_steps, dimensions = scenario_data.shape\n",
    "    assert Tobs <= time_steps, \"Tobs cannot exceed total time steps.\"\n",
    "\n",
    "    # Extract observed positions at Tobs (last observed position)\n",
    "    last_x = scenario_data[:, Tobs-1, 0]  # Last observed x position\n",
    "    last_y = scenario_data[:, Tobs-1, 1]  # Last observed y position\n",
    "\n",
    "    # Compute mean velocities from observed data\n",
    "    velocity_x = scenario_data[:, :Tobs, 2]\n",
    "    velocity_y = scenario_data[:, :Tobs, 3]\n",
    "\n",
    "    vx_mean = np.mean(velocity_x, axis=1)  # Mean vx per agent\n",
    "    vy_mean = np.mean(velocity_y, axis=1)  # Mean vy per agent\n",
    "\n",
    "    # Time offsets for future predictions\n",
    "    future_time_steps = np.arange(1, Tpred + 1)  # 1, 2, ..., Tpred\n",
    "\n",
    "    # Compute future positions using constant velocity assumption\n",
    "    future_x = last_x[:, np.newaxis] + future_time_steps * vx_mean[:, np.newaxis]\n",
    "    future_y = last_y[:, np.newaxis] + future_time_steps * vy_mean[:, np.newaxis]\n",
    "\n",
    "    # Stack predictions into shape (agents, Tpred, 2)\n",
    "    predicted_positions = np.stack((future_x, future_y), axis=-1)\n",
    "\n",
    "    return predicted_positions"
   ],
   "metadata": {
    "collapsed": false,
    "ExecuteTime": {
     "end_time": "2025-04-03T00:32:44.701560Z",
     "start_time": "2025-04-03T00:32:44.697981Z"
    }
   },
   "id": "b6f1b55a48a09763",
   "execution_count": 13
  },
  {
   "cell_type": "markdown",
   "source": [
    "Make predictions on train, and evaluate MSE"
   ],
   "metadata": {
    "collapsed": false
   },
   "id": "4898f29cd82c087a"
  },
  {
   "cell_type": "code",
   "outputs": [
    {
     "name": "stdout",
     "output_type": "stream",
     "text": [
      "Mean Squared Error (MSE) on train data: 24704.1730\n"
     ]
    },
    {
     "data": {
      "text/plain": "np.float64(24704.1729997388)"
     },
     "execution_count": 16,
     "metadata": {},
     "output_type": "execute_result"
    }
   ],
   "source": [
    "from sklearn.metrics import mean_squared_error\n",
    "\n",
    "def evaluate_mse(train_data, Tobs=50, Tpred=60):\n",
    "    \"\"\"\n",
    "    Computes the constant velocity prediction for the ego agent in train_data and evaluates MSE.\n",
    "    \n",
    "    Args:\n",
    "        train_data (numpy.ndarray): Training data of shape (N, 50, 110, 6).\n",
    "        Tobs (int, optional): Number of observed time steps. Defaults to 50.\n",
    "        Tpred (int, optional): Number of future time steps to predict. Defaults to 60.\n",
    "\n",
    "    Returns:\n",
    "        float: Mean Squared Error of predicted vs actual future positions.\n",
    "    \"\"\"\n",
    "    N = train_data.shape[0]  # Number of scenarios\n",
    "    mse_list = []\n",
    "\n",
    "    for i in range(N):\n",
    "        scenario_data = train_data[i]  # Shape (50, 110, 6)\n",
    "        \n",
    "        # Extract the ego agent (agent 0)\n",
    "        ego_agent_data = scenario_data[0]  # Shape (110, 6)\n",
    "        \n",
    "        # Get ground truth future positions (Tobs:Tobs+Tpred)\n",
    "        ground_truth = ego_agent_data[Tobs:Tobs+Tpred, :2]  # Shape (60, 2) -> (x, y)\n",
    "\n",
    "        # Forecast future positions for the ego agent\n",
    "        predicted_positions = forecast_positions(ego_agent_data[np.newaxis, :, :], Tobs, Tpred)  # (1, 60, 2)\n",
    "\n",
    "        # Compute MSE\n",
    "        mse = mean_squared_error(ground_truth, predicted_positions[0])\n",
    "        mse_list.append(mse)\n",
    "\n",
    "    # Compute mean of all scenario MSEs\n",
    "    overall_mse = np.mean(mse_list)\n",
    "    \n",
    "    print(f\"Mean Squared Error (MSE) on train data: {overall_mse:.4f}\")\n",
    "    return overall_mse\n",
    "\n",
    "# Evaluate MSE\n",
    "evaluate_mse(train_data)"
   ],
   "metadata": {
    "collapsed": false,
    "ExecuteTime": {
     "end_time": "2025-04-03T00:38:29.509337Z",
     "start_time": "2025-04-03T00:38:12.461724Z"
    }
   },
   "id": "e58774714fff6786",
   "execution_count": 16
  },
  {
   "cell_type": "code",
   "outputs": [],
   "source": [
    "import pandas as pd"
   ],
   "metadata": {
    "collapsed": false,
    "ExecuteTime": {
     "end_time": "2025-04-03T00:33:28.742135Z",
     "start_time": "2025-04-03T00:33:22.656927Z"
    }
   },
   "id": "2645407a4094085e",
   "execution_count": 14
  },
  {
   "cell_type": "code",
   "outputs": [
    {
     "name": "stdout",
     "output_type": "stream",
     "text": [
      "Submission file 'constant_velocity_submission.csv' saved successfully!\n"
     ]
    }
   ],
   "source": [
    "def generate_submission(data, output_csv, Tobs=50, Tpred=60):\n",
    "    \"\"\"\n",
    "    Loads test data, applies constant velocity forecasting to the ego agent, and saves results as CSV.\n",
    "    \n",
    "    Args:\n",
    "        test_data_path (str): Path to the .npz file containing test data.\n",
    "        output_csv (str): Path to save the output CSV.\n",
    "        Tobs (int, optional): Number of observed time steps. Defaults to 50.\n",
    "        Tpred (int, optional): Number of future time steps to predict. Defaults to 60.\n",
    "    \"\"\"\n",
    "\n",
    "    # Initialize array for predictions\n",
    "    submission_data = np.zeros((data.shape[0], 1, Tpred, 2))  # (2100, 1, 60, 2)\n",
    "\n",
    "    # Iterate over all test scenarios\n",
    "    for i in range(data.shape[0]):\n",
    "        scenario_data = data[i]  # Shape (50, 50, 6)\n",
    "        \n",
    "        # Extract the ego agent (agent 0)\n",
    "        ego_agent_data = scenario_data[0]  # Shape (50, 6)\n",
    "        \n",
    "        # Forecast future positions for the ego agent\n",
    "        predicted_positions = forecast_positions(ego_agent_data[np.newaxis, :, :], Tobs, Tpred)  # (1, 60, 2)\n",
    "        \n",
    "        # Store in final array\n",
    "        submission_data[i, 0] = predicted_positions[0]\n",
    "\n",
    "    # Convert to DataFrame and save as CSV\n",
    "    submission_df = pd.DataFrame(submission_data.reshape(data.shape[0], -1))  # Flatten (2100, 120)\n",
    "    submission_df.to_csv(output_csv, index=False, header=False)\n",
    "    \n",
    "    print(f\"Submission file '{output_csv}' saved successfully!\")\n",
    "\n",
    "generate_submission(test_data, 'constant_velocity_submission.csv')"
   ],
   "metadata": {
    "collapsed": false,
    "ExecuteTime": {
     "end_time": "2025-04-03T00:33:38.157881Z",
     "start_time": "2025-04-03T00:33:38.011027Z"
    }
   },
   "id": "e9a827bb1c455221",
   "execution_count": 15
  },
  {
   "cell_type": "code",
   "outputs": [],
   "source": [],
   "metadata": {
    "collapsed": false
   },
   "id": "3867c1d3035bab49"
  }
 ],
 "metadata": {
  "kernelspec": {
   "display_name": "Python 3",
   "language": "python",
   "name": "python3"
  },
  "language_info": {
   "codemirror_mode": {
    "name": "ipython",
    "version": 2
   },
   "file_extension": ".py",
   "mimetype": "text/x-python",
   "name": "python",
   "nbconvert_exporter": "python",
   "pygments_lexer": "ipython2",
   "version": "2.7.6"
  }
 },
 "nbformat": 4,
 "nbformat_minor": 5
}
